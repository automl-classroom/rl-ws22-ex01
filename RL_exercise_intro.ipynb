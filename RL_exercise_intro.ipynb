{
 "cells": [
  {
   "cell_type": "markdown",
   "id": "a37d9151-dcbf-4c7f-8d0b-c697b3fdbc13",
   "metadata": {
    "pycharm": {
     "name": "#%% md\n"
    }
   },
   "source": [
    "# RL Exercise Demo\n",
    "This exercise serves as a demonstration how to quickly train an RL agent on a popular environment with a RL framework.\n",
    "We will\n",
    "1. Select and instantiate environment (gym's BipedalWalker-v3).\n",
    "2. Select and setup our RL algorithm / agent (stablebaselines3 [SAC](https://spinningup.openai.com/en/latest/algorithms/sac.html)).\n",
    "3. Train the agent on the environment and visualize training progress.\n",
    "4. Evaluate our agent and observe the distribution of test performances.\n",
    "5. Record and replay the agent, before and after."
   ]
  },
  {
   "cell_type": "markdown",
   "id": "d3c4b5e2-e487-4b04-8c55-3938b4d82529",
   "metadata": {
    "pycharm": {
     "name": "#%% md\n"
    }
   },
   "source": [
    "## The Environment: Bipedal Walker\n",
    "![Bipedal Walker](bipedal_walker.gif) [credits](https://www.gymlibrary.dev/_images/bipedal_walker.gif)\n",
    "\n",
    "![Interaction Env-Agent](env_agent.png)\n",
    "\n",
    "### Env\n",
    "- locomotion\n",
    "- 4 joints\n",
    "\n",
    "### Action Space\n",
    "- motor speed for all 4 joints (hips and knees) [-1, 1]\n",
    "\n",
    "### Observation Space\n",
    "State consists of\n",
    "- hull angle speed\n",
    "- angular velocity\n",
    "- horizontal speed\n",
    "- vertical speed\n",
    "- position of joints\n",
    "- joints angular speed\n",
    "- legs contact with ground\n",
    "- 10 lidar rangefinder measurements\n",
    "\n",
    "There are no coordinates! State vector with 24 entries.\n",
    "\n",
    "### Rewards\n",
    "Moving forward gives rewards.\n",
    "Falling is punished.\n",
    "Applying motor torque costs a little.\n",
    "\n",
    "\n",
    "### Starting State\n",
    "Stands at the left in a certain position.\n",
    "\n",
    "### Episode Termination\n",
    "- walker falls\n",
    "- or reaches end of terrain\n"
   ]
  },
  {
   "cell_type": "code",
   "execution_count": 1,
   "id": "22de499d-f2cd-4d95-b61b-1827650d001b",
   "metadata": {
    "pycharm": {
     "name": "#%%\n"
    }
   },
   "outputs": [],
   "source": [
    "import pandas as pd\n",
    "\n",
    "model_fn = \"trained_agent.zip\"\n",
    "env_id = \"BipedalWalker-v3\"\n",
    "log_dir = \"logs/tensorboard\""
   ]
  },
  {
   "cell_type": "markdown",
   "id": "a267d6a0-dcd5-42d2-83e2-a70cf4518e36",
   "metadata": {
    "pycharm": {
     "name": "#%% md\n"
    }
   },
   "source": [
    "## The Agent: SAC\n",
    "SAC: Soft Actor Critic\n",
    "[[paper]](https://arxiv.org/abs/1801.01290) [[blogpost]](https://spinningup.openai.com/en/latest/algorithms/sac.html)\n",
    "\n",
    "- off-policy algorithm\n",
    "- for continuous actions\n",
    "- one actor, one critic\n",
    "- special regularization to steer exploration-exploitation trade-off "
   ]
  },
  {
   "cell_type": "code",
   "execution_count": null,
   "id": "6b794a7c-86f1-4675-aa8f-9e81f2ca4f4b",
   "metadata": {
    "pycharm": {
     "name": "#%%\n"
    }
   },
   "outputs": [],
   "source": [
    "import gym\n",
    "from stable_baselines3 import SAC\n",
    "\n",
    "env = gym.make(env_id)\n",
    "model = SAC(\"MlpPolicy\", env, verbose=1, tensorboard_log=log_dir)\n",
    "model.learn(total_timesteps=500_000)\n",
    "model.save(model_fn)"
   ]
  },
  {
   "cell_type": "markdown",
   "id": "f3c528b3-c890-4d43-9854-6af07bfcc94f",
   "metadata": {
    "pycharm": {
     "name": "#%% md\n"
    }
   },
   "source": [
    "# Rollout"
   ]
  },
  {
   "cell_type": "markdown",
   "id": "a7383350",
   "metadata": {},
   "source": [
    "## Evaluate Trained and Random Agent"
   ]
  },
  {
   "cell_type": "code",
   "execution_count": 29,
   "id": "c0cea3d9",
   "metadata": {},
   "outputs": [],
   "source": [
    "import gym\n",
    "import pandas as pd\n",
    "import numpy as np\n",
    "from stable_baselines3.common.vec_env import DummyVecEnv\n",
    "from stable_baselines3.common.evaluation import evaluate_policy\n",
    "from stable_baselines3.common.monitor import Monitor\n",
    "from stable_baselines3 import SAC\n",
    "\n",
    "\n",
    "n_eval_episodes = 10\n",
    "\n",
    "\n",
    "# Create/ load agents\n",
    "\n",
    "# Untrained agent\n",
    "env = gym.make(env_id)\n",
    "untrained_agent = SAC(\"MlpPolicy\", env, verbose=0)\n",
    "\n",
    "# Trained agents\n",
    "trained_agent = SAC.load(model_fn)\n",
    "\n",
    "agents = {\n",
    "    \"untrained\": untrained_agent,\n",
    "    \"trained\": trained_agent,\n",
    "}\n",
    "\n",
    "# Create env to evaluate\n",
    "env = DummyVecEnv([lambda: gym.make(env_id)])\n",
    "env = Monitor(gym.make(env_id))\n",
    "\n",
    "# Evaluate each agent and gather results\n",
    "results = []\n",
    "for name, agent in agents.items():\n",
    "    # Rollout n_eval_episodes and record performance\n",
    "    means, stds = evaluate_policy(agent, env, n_eval_episodes=n_eval_episodes, return_episode_rewards=True)\n",
    "    performance = np.mean(means)\n",
    "    results.append(pd.DataFrame({\n",
    "        \"agent\": name,\n",
    "        \"episode\": np.arange(0, n_eval_episodes),\n",
    "        \"reward\": means,\n",
    "        \"length\": stds,\n",
    "    }))\n",
    "results = pd.concat(results).reset_index(drop=True)"
   ]
  },
  {
   "cell_type": "code",
   "execution_count": 31,
   "id": "a876b14e",
   "metadata": {},
   "outputs": [
    {
     "data": {
      "text/html": [
       "<pre style=\"white-space:pre;overflow-x:auto;line-height:normal;font-family:Menlo,'DejaVu Sans Mono',consolas,'Courier New',monospace\">        agent  episode      reward  length\n",
       "<span style=\"color: #008080; text-decoration-color: #008080; font-weight: bold\">0</span>   untrained        <span style=\"color: #008080; text-decoration-color: #008080; font-weight: bold\">0</span>  <span style=\"color: #008080; text-decoration-color: #008080; font-weight: bold\">-93.029525</span>     <span style=\"color: #008080; text-decoration-color: #008080; font-weight: bold\">103</span>\n",
       "<span style=\"color: #008080; text-decoration-color: #008080; font-weight: bold\">1</span>   untrained        <span style=\"color: #008080; text-decoration-color: #008080; font-weight: bold\">1</span>  <span style=\"color: #008080; text-decoration-color: #008080; font-weight: bold\">-93.013591</span>     <span style=\"color: #008080; text-decoration-color: #008080; font-weight: bold\">103</span>\n",
       "<span style=\"color: #008080; text-decoration-color: #008080; font-weight: bold\">2</span>   untrained        <span style=\"color: #008080; text-decoration-color: #008080; font-weight: bold\">2</span>  <span style=\"color: #008080; text-decoration-color: #008080; font-weight: bold\">-92.857543</span>     <span style=\"color: #008080; text-decoration-color: #008080; font-weight: bold\">109</span>\n",
       "<span style=\"color: #008080; text-decoration-color: #008080; font-weight: bold\">3</span>   untrained        <span style=\"color: #008080; text-decoration-color: #008080; font-weight: bold\">3</span>  <span style=\"color: #008080; text-decoration-color: #008080; font-weight: bold\">-93.052581</span>     <span style=\"color: #008080; text-decoration-color: #008080; font-weight: bold\">104</span>\n",
       "<span style=\"color: #008080; text-decoration-color: #008080; font-weight: bold\">4</span>   untrained        <span style=\"color: #008080; text-decoration-color: #008080; font-weight: bold\">4</span>  <span style=\"color: #008080; text-decoration-color: #008080; font-weight: bold\">-93.057285</span>     <span style=\"color: #008080; text-decoration-color: #008080; font-weight: bold\">104</span>\n",
       "<span style=\"color: #008080; text-decoration-color: #008080; font-weight: bold\">5</span>   untrained        <span style=\"color: #008080; text-decoration-color: #008080; font-weight: bold\">5</span>  <span style=\"color: #008080; text-decoration-color: #008080; font-weight: bold\">-92.734779</span>     <span style=\"color: #008080; text-decoration-color: #008080; font-weight: bold\">101</span>\n",
       "<span style=\"color: #008080; text-decoration-color: #008080; font-weight: bold\">6</span>   untrained        <span style=\"color: #008080; text-decoration-color: #008080; font-weight: bold\">6</span>  <span style=\"color: #008080; text-decoration-color: #008080; font-weight: bold\">-92.917871</span>     <span style=\"color: #008080; text-decoration-color: #008080; font-weight: bold\">104</span>\n",
       "<span style=\"color: #008080; text-decoration-color: #008080; font-weight: bold\">7</span>   untrained        <span style=\"color: #008080; text-decoration-color: #008080; font-weight: bold\">7</span>  <span style=\"color: #008080; text-decoration-color: #008080; font-weight: bold\">-93.017067</span>     <span style=\"color: #008080; text-decoration-color: #008080; font-weight: bold\">104</span>\n",
       "<span style=\"color: #008080; text-decoration-color: #008080; font-weight: bold\">8</span>   untrained        <span style=\"color: #008080; text-decoration-color: #008080; font-weight: bold\">8</span>  <span style=\"color: #008080; text-decoration-color: #008080; font-weight: bold\">-92.952616</span>     <span style=\"color: #008080; text-decoration-color: #008080; font-weight: bold\">105</span>\n",
       "<span style=\"color: #008080; text-decoration-color: #008080; font-weight: bold\">9</span>   untrained        <span style=\"color: #008080; text-decoration-color: #008080; font-weight: bold\">9</span>  <span style=\"color: #008080; text-decoration-color: #008080; font-weight: bold\">-92.820710</span>     <span style=\"color: #008080; text-decoration-color: #008080; font-weight: bold\">103</span>\n",
       "<span style=\"color: #008080; text-decoration-color: #008080; font-weight: bold\">10</span>    trained        <span style=\"color: #008080; text-decoration-color: #008080; font-weight: bold\">0</span>  <span style=\"color: #008080; text-decoration-color: #008080; font-weight: bold\">302.361579</span>     <span style=\"color: #008080; text-decoration-color: #008080; font-weight: bold\">925</span>\n",
       "<span style=\"color: #008080; text-decoration-color: #008080; font-weight: bold\">11</span>    trained        <span style=\"color: #008080; text-decoration-color: #008080; font-weight: bold\">1</span>  <span style=\"color: #008080; text-decoration-color: #008080; font-weight: bold\">299.615659</span>     <span style=\"color: #008080; text-decoration-color: #008080; font-weight: bold\">962</span>\n",
       "<span style=\"color: #008080; text-decoration-color: #008080; font-weight: bold\">12</span>    trained        <span style=\"color: #008080; text-decoration-color: #008080; font-weight: bold\">2</span>  <span style=\"color: #008080; text-decoration-color: #008080; font-weight: bold\">303.914557</span>     <span style=\"color: #008080; text-decoration-color: #008080; font-weight: bold\">904</span>\n",
       "<span style=\"color: #008080; text-decoration-color: #008080; font-weight: bold\">13</span>    trained        <span style=\"color: #008080; text-decoration-color: #008080; font-weight: bold\">3</span>  <span style=\"color: #008080; text-decoration-color: #008080; font-weight: bold\">298.962662</span>     <span style=\"color: #008080; text-decoration-color: #008080; font-weight: bold\">963</span>\n",
       "<span style=\"color: #008080; text-decoration-color: #008080; font-weight: bold\">14</span>    trained        <span style=\"color: #008080; text-decoration-color: #008080; font-weight: bold\">4</span>  <span style=\"color: #008080; text-decoration-color: #008080; font-weight: bold\">298.613614</span>     <span style=\"color: #008080; text-decoration-color: #008080; font-weight: bold\">958</span>\n",
       "<span style=\"color: #008080; text-decoration-color: #008080; font-weight: bold\">15</span>    trained        <span style=\"color: #008080; text-decoration-color: #008080; font-weight: bold\">5</span>  <span style=\"color: #008080; text-decoration-color: #008080; font-weight: bold\">303.375655</span>     <span style=\"color: #008080; text-decoration-color: #008080; font-weight: bold\">902</span>\n",
       "<span style=\"color: #008080; text-decoration-color: #008080; font-weight: bold\">16</span>    trained        <span style=\"color: #008080; text-decoration-color: #008080; font-weight: bold\">6</span>  <span style=\"color: #008080; text-decoration-color: #008080; font-weight: bold\">303.934267</span>     <span style=\"color: #008080; text-decoration-color: #008080; font-weight: bold\">908</span>\n",
       "<span style=\"color: #008080; text-decoration-color: #008080; font-weight: bold\">17</span>    trained        <span style=\"color: #008080; text-decoration-color: #008080; font-weight: bold\">7</span>  <span style=\"color: #008080; text-decoration-color: #008080; font-weight: bold\">303.227167</span>     <span style=\"color: #008080; text-decoration-color: #008080; font-weight: bold\">915</span>\n",
       "<span style=\"color: #008080; text-decoration-color: #008080; font-weight: bold\">18</span>    trained        <span style=\"color: #008080; text-decoration-color: #008080; font-weight: bold\">8</span>  <span style=\"color: #008080; text-decoration-color: #008080; font-weight: bold\">303.027576</span>     <span style=\"color: #008080; text-decoration-color: #008080; font-weight: bold\">895</span>\n",
       "<span style=\"color: #008080; text-decoration-color: #008080; font-weight: bold\">19</span>    trained        <span style=\"color: #008080; text-decoration-color: #008080; font-weight: bold\">9</span>  <span style=\"color: #008080; text-decoration-color: #008080; font-weight: bold\">303.416011</span>     <span style=\"color: #008080; text-decoration-color: #008080; font-weight: bold\">903</span>\n",
       "</pre>\n"
      ],
      "text/plain": [
       "        agent  episode      reward  length\n",
       "\u001b[1;36m0\u001b[0m   untrained        \u001b[1;36m0\u001b[0m  \u001b[1;36m-93.029525\u001b[0m     \u001b[1;36m103\u001b[0m\n",
       "\u001b[1;36m1\u001b[0m   untrained        \u001b[1;36m1\u001b[0m  \u001b[1;36m-93.013591\u001b[0m     \u001b[1;36m103\u001b[0m\n",
       "\u001b[1;36m2\u001b[0m   untrained        \u001b[1;36m2\u001b[0m  \u001b[1;36m-92.857543\u001b[0m     \u001b[1;36m109\u001b[0m\n",
       "\u001b[1;36m3\u001b[0m   untrained        \u001b[1;36m3\u001b[0m  \u001b[1;36m-93.052581\u001b[0m     \u001b[1;36m104\u001b[0m\n",
       "\u001b[1;36m4\u001b[0m   untrained        \u001b[1;36m4\u001b[0m  \u001b[1;36m-93.057285\u001b[0m     \u001b[1;36m104\u001b[0m\n",
       "\u001b[1;36m5\u001b[0m   untrained        \u001b[1;36m5\u001b[0m  \u001b[1;36m-92.734779\u001b[0m     \u001b[1;36m101\u001b[0m\n",
       "\u001b[1;36m6\u001b[0m   untrained        \u001b[1;36m6\u001b[0m  \u001b[1;36m-92.917871\u001b[0m     \u001b[1;36m104\u001b[0m\n",
       "\u001b[1;36m7\u001b[0m   untrained        \u001b[1;36m7\u001b[0m  \u001b[1;36m-93.017067\u001b[0m     \u001b[1;36m104\u001b[0m\n",
       "\u001b[1;36m8\u001b[0m   untrained        \u001b[1;36m8\u001b[0m  \u001b[1;36m-92.952616\u001b[0m     \u001b[1;36m105\u001b[0m\n",
       "\u001b[1;36m9\u001b[0m   untrained        \u001b[1;36m9\u001b[0m  \u001b[1;36m-92.820710\u001b[0m     \u001b[1;36m103\u001b[0m\n",
       "\u001b[1;36m10\u001b[0m    trained        \u001b[1;36m0\u001b[0m  \u001b[1;36m302.361579\u001b[0m     \u001b[1;36m925\u001b[0m\n",
       "\u001b[1;36m11\u001b[0m    trained        \u001b[1;36m1\u001b[0m  \u001b[1;36m299.615659\u001b[0m     \u001b[1;36m962\u001b[0m\n",
       "\u001b[1;36m12\u001b[0m    trained        \u001b[1;36m2\u001b[0m  \u001b[1;36m303.914557\u001b[0m     \u001b[1;36m904\u001b[0m\n",
       "\u001b[1;36m13\u001b[0m    trained        \u001b[1;36m3\u001b[0m  \u001b[1;36m298.962662\u001b[0m     \u001b[1;36m963\u001b[0m\n",
       "\u001b[1;36m14\u001b[0m    trained        \u001b[1;36m4\u001b[0m  \u001b[1;36m298.613614\u001b[0m     \u001b[1;36m958\u001b[0m\n",
       "\u001b[1;36m15\u001b[0m    trained        \u001b[1;36m5\u001b[0m  \u001b[1;36m303.375655\u001b[0m     \u001b[1;36m902\u001b[0m\n",
       "\u001b[1;36m16\u001b[0m    trained        \u001b[1;36m6\u001b[0m  \u001b[1;36m303.934267\u001b[0m     \u001b[1;36m908\u001b[0m\n",
       "\u001b[1;36m17\u001b[0m    trained        \u001b[1;36m7\u001b[0m  \u001b[1;36m303.227167\u001b[0m     \u001b[1;36m915\u001b[0m\n",
       "\u001b[1;36m18\u001b[0m    trained        \u001b[1;36m8\u001b[0m  \u001b[1;36m303.027576\u001b[0m     \u001b[1;36m895\u001b[0m\n",
       "\u001b[1;36m19\u001b[0m    trained        \u001b[1;36m9\u001b[0m  \u001b[1;36m303.416011\u001b[0m     \u001b[1;36m903\u001b[0m\n"
      ]
     },
     "metadata": {},
     "output_type": "display_data"
    },
    {
     "data": {
      "image/png": "[encoded data removed]",
      "text/plain": [
       "<Figure size 640x480 with 1 Axes>"
      ]
     },
     "metadata": {},
     "output_type": "display_data"
    },
    {
     "data": {
      "image/png": "[encoded data removed]",
      "text/plain": [
       "<Figure size 640x480 with 1 Axes>"
      ]
     },
     "metadata": {},
     "output_type": "display_data"
    }
   ],
   "source": [
    "from rich import print as printr\n",
    "import seaborn as sns\n",
    "import matplotlib.pyplot as plt\n",
    "\n",
    "df = results\n",
    "printr(df)\n",
    "\n",
    "ax = sns.boxplot(data=df, x=\"agent\", y=\"reward\")\n",
    "plt.show()\n",
    "\n",
    "sns.boxplot(data=df, x=\"agent\", y=\"length\")\n",
    "plt.show()"
   ]
  },
  {
   "cell_type": "code",
   "execution_count": 2,
   "metadata": {
    "collapsed": false,
    "pycharm": {
     "name": "#%%\n"
    }
   },
   "outputs": [],
   "source": [
    "video_folder = \"logs/videos/\"\n",
    "video_length = 1000"
   ]
  },
  {
   "cell_type": "markdown",
   "metadata": {
    "collapsed": false,
    "pycharm": {
     "name": "#%% md\n"
    }
   },
   "source": [
    "## Record random agent"
   ]
  },
  {
   "cell_type": "code",
   "execution_count": null,
   "metadata": {
    "collapsed": false,
    "pycharm": {
     "name": "#%%\n"
    }
   },
   "outputs": [],
   "source": [
    "import gym\n",
    "from stable_baselines3.common.vec_env import VecVideoRecorder, DummyVecEnv\n",
    "\n",
    "# This creates a vectorized env (here of length 1). Is useful for parallelization\n",
    "# when we have several workers that can perform individual rollouts.\n",
    "env = DummyVecEnv([lambda: gym.make(env_id)])\n",
    "\n",
    "env = VecVideoRecorder(\n",
    "    env,\n",
    "    video_folder,\n",
    "    record_video_trigger=lambda x: x == 0,\n",
    "    video_length=video_length,\n",
    "    name_prefix=f\"random-agent-{env_id}\",\n",
    ")\n",
    "\n",
    "n_steps = video_length\n",
    "\n",
    "# Reset and initialize the environment\n",
    "obs = env.reset()\n",
    "\n",
    "# For the number of frames\n",
    "for i in range(n_steps):\n",
    "    # Sample a random action from the action space\n",
    "    action = [env.action_space.sample()]\n",
    "\n",
    "    # Step the environment\n",
    "    obs, reward, done, info = env.step(action)\n",
    "    if done:\n",
    "        # If the env signals the end of the episode, stop recording\n",
    "        break\n",
    "        obs = env.reset()\n",
    "# Close / cleanup env\n",
    "env.close()"
   ]
  },
  {
   "cell_type": "markdown",
   "metadata": {
    "collapsed": false,
    "pycharm": {
     "name": "#%% md\n"
    }
   },
   "source": [
    "## Record trained agent"
   ]
  },
  {
   "cell_type": "code",
   "execution_count": null,
   "metadata": {
    "collapsed": false,
    "pycharm": {
     "name": "#%%\n"
    }
   },
   "outputs": [],
   "source": [
    "from stable_baselines3 import SAC\n",
    "import gym\n",
    "from stable_baselines3.common.vec_env import VecVideoRecorder, DummyVecEnv\n",
    "\n",
    "env = DummyVecEnv([lambda: gym.make(env_id)])\n",
    "\n",
    "# Record the video starting at the first step\n",
    "env = VecVideoRecorder(\n",
    "    env,\n",
    "    video_folder,\n",
    "    record_video_trigger=lambda x: x == 0,\n",
    "    video_length=video_length,\n",
    "    name_prefix=f\"trained-agent-{env_id}\",\n",
    ")\n",
    "\n",
    "model = SAC.load(model_fn)\n",
    "\n",
    "n_steps = video_length\n",
    "\n",
    "obs = env.reset()\n",
    "for i in range(n_steps):\n",
    "    # Now PREDICT the action to take with the trained model 🤖\n",
    "    action, _states = model.predict(obs, deterministic=True)\n",
    "    obs, reward, done, info = env.step(action)\n",
    "    if done:\n",
    "        break\n",
    "        obs = env.reset()\n",
    "env.close()"
   ]
  }
 ],
 "metadata": {
  "kernelspec": {
   "display_name": "Python 3.10.6 ('rl01')",
   "language": "python",
   "name": "python3"
  },
  "language_info": {
   "codemirror_mode": {
    "name": "ipython",
    "version": 3
   },
   "file_extension": ".py",
   "mimetype": "text/x-python",
   "name": "python",
   "nbconvert_exporter": "python",
   "pygments_lexer": "ipython3",
   "version": "3.10.6"
  },
  "vscode": {
   "interpreter": {
    "hash": "35e7773a79db726e11d192af5488f5d19ce21229b688da98759b0df31201ec10"
   }
  }
 },
 "nbformat": 4,
 "nbformat_minor": 5
}
