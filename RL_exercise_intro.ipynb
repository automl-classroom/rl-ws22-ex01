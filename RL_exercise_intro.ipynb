{
 "cells": [
  {
   "cell_type": "markdown",
   "id": "a37d9151-dcbf-4c7f-8d0b-c697b3fdbc13",
   "metadata": {
    "pycharm": {
     "name": "#%% md\n"
    }
   },
   "source": [
    "# RL Exercise Demo\n",
    "This exercise serves as a demonstration how to quickly train an RL agent on a popular environment with a RL framework.\n",
    "We will\n",
    "1. Select and instantiate environment (gym's BipedalWalker-v3).\n",
    "2. Select and setup our RL algorithm / agent (stablebaselines3 [SAC](https://spinningup.openai.com/en/latest/algorithms/sac.html)).\n",
    "3. Train the agent on the environment and visualize training progress.\n",
    "4. Evaluate our agent and observe the distribution of test performances.\n",
    "5. Record and replay the agent, before and after."
   ]
  },
  {
   "cell_type": "markdown",
   "id": "d3c4b5e2-e487-4b04-8c55-3938b4d82529",
   "metadata": {
    "pycharm": {
     "name": "#%% md\n"
    }
   },
   "source": [
    "## The Environment: Bipedal Walker\n",
    "![Bipedal Walker](bipedal_walker.gif) [credits](https://www.gymlibrary.dev/_images/bipedal_walker.gif)\n",
    "\n",
    "![Interaction Env-Agent](env_agent.png)\n",
    "\n",
    "### Env\n",
    "- locomotion\n",
    "- 4 joints\n",
    "\n",
    "### Action Space\n",
    "- motor speed for all 4 joints (hips and knees) [-1, 1]\n",
    "\n",
    "### Observation Space\n",
    "State consists of\n",
    "- hull angle speed\n",
    "- angular velocity\n",
    "- horizontal speed\n",
    "- vertical speed\n",
    "- position of joints\n",
    "- joints angular speed\n",
    "- legs contact with ground\n",
    "- 10 lidar rangefinder measurements\n",
    "\n",
    "There are no coordinates! State vector with 24 entries.\n",
    "\n",
    "### Rewards\n",
    "Moving forward gives rewards.\n",
    "Falling is punished.\n",
    "Applying motor torque costs a little.\n",
    "\n",
    "\n",
    "### Starting State\n",
    "Stands at the left in a certain position.\n",
    "\n",
    "### Episode Termination\n",
    "- walker falls\n",
    "- or reaches end of terrain\n"
   ]
  },
  {
   "cell_type": "code",
   "execution_count": 2,
   "id": "22de499d-f2cd-4d95-b61b-1827650d001b",
   "metadata": {
    "pycharm": {
     "name": "#%%\n"
    }
   },
   "outputs": [],
   "source": [
    "import pandas as pd\n",
    "\n",
    "model_fn = \"trained_agent.zip\"\n",
    "env_id = \"BipedalWalker-v3\"\n",
    "log_dir = \"logs/tensorboard\""
   ]
  },
  {
   "cell_type": "markdown",
   "id": "a267d6a0-dcd5-42d2-83e2-a70cf4518e36",
   "metadata": {
    "pycharm": {
     "name": "#%% md\n"
    }
   },
   "source": [
    "## The Agent: SAC\n",
    "SAC: Soft Actor Critic\n",
    "[[paper]](https://arxiv.org/abs/1801.01290) [[blogpost]](https://spinningup.openai.com/en/latest/algorithms/sac.html)\n",
    "\n",
    "- off-policy algorithm\n",
    "- for continuous actions\n",
    "- one actor, one critic\n",
    "- special regularization to steer exploration-exploitation trade-off "
   ]
  },
  {
   "cell_type": "code",
   "execution_count": 3,
   "id": "6b794a7c-86f1-4675-aa8f-9e81f2ca4f4b",
   "metadata": {
    "pycharm": {
     "name": "#%%\n"
    }
   },
   "outputs": [
    {
     "name": "stdout",
     "output_type": "stream",
     "text": [
      "Using cpu device\n",
      "Wrapping the env with a `Monitor` wrapper\n",
      "Wrapping the env in a DummyVecEnv.\n",
      "Logging to logs/tensorboard/SAC_1\n"
     ]
    },
    {
     "ename": "KeyboardInterrupt",
     "evalue": "",
     "output_type": "error",
     "traceback": [
      "\u001b[0;31m---------------------------------------------------------------------------\u001b[0m",
      "\u001b[0;31mKeyboardInterrupt\u001b[0m                         Traceback (most recent call last)",
      "Cell \u001b[0;32mIn [3], line 6\u001b[0m\n\u001b[1;32m      4\u001b[0m env \u001b[39m=\u001b[39m gym\u001b[39m.\u001b[39mmake(env_id)\n\u001b[1;32m      5\u001b[0m model \u001b[39m=\u001b[39m SAC(\u001b[39m\"\u001b[39m\u001b[39mMlpPolicy\u001b[39m\u001b[39m\"\u001b[39m, env, verbose\u001b[39m=\u001b[39m\u001b[39m1\u001b[39m, tensorboard_log\u001b[39m=\u001b[39mlog_dir)\n\u001b[0;32m----> 6\u001b[0m model\u001b[39m.\u001b[39;49mlearn(total_timesteps\u001b[39m=\u001b[39;49m\u001b[39m500_000\u001b[39;49m)\n\u001b[1;32m      7\u001b[0m model\u001b[39m.\u001b[39msave(model_fn)\n",
      "File \u001b[0;32m~/.conda/envs/rl01/lib/python3.10/site-packages/stable_baselines3/sac/sac.py:309\u001b[0m, in \u001b[0;36mSAC.learn\u001b[0;34m(self, total_timesteps, callback, log_interval, eval_env, eval_freq, n_eval_episodes, tb_log_name, eval_log_path, reset_num_timesteps, progress_bar)\u001b[0m\n\u001b[1;32m    295\u001b[0m \u001b[39mdef\u001b[39;00m \u001b[39mlearn\u001b[39m(\n\u001b[1;32m    296\u001b[0m     \u001b[39mself\u001b[39m: SACSelf,\n\u001b[1;32m    297\u001b[0m     total_timesteps: \u001b[39mint\u001b[39m,\n\u001b[0;32m   (...)\u001b[0m\n\u001b[1;32m    306\u001b[0m     progress_bar: \u001b[39mbool\u001b[39m \u001b[39m=\u001b[39m \u001b[39mFalse\u001b[39;00m,\n\u001b[1;32m    307\u001b[0m ) \u001b[39m-\u001b[39m\u001b[39m>\u001b[39m SACSelf:\n\u001b[0;32m--> 309\u001b[0m     \u001b[39mreturn\u001b[39;00m \u001b[39msuper\u001b[39;49m()\u001b[39m.\u001b[39;49mlearn(\n\u001b[1;32m    310\u001b[0m         total_timesteps\u001b[39m=\u001b[39;49mtotal_timesteps,\n\u001b[1;32m    311\u001b[0m         callback\u001b[39m=\u001b[39;49mcallback,\n\u001b[1;32m    312\u001b[0m         log_interval\u001b[39m=\u001b[39;49mlog_interval,\n\u001b[1;32m    313\u001b[0m         eval_env\u001b[39m=\u001b[39;49meval_env,\n\u001b[1;32m    314\u001b[0m         eval_freq\u001b[39m=\u001b[39;49meval_freq,\n\u001b[1;32m    315\u001b[0m         n_eval_episodes\u001b[39m=\u001b[39;49mn_eval_episodes,\n\u001b[1;32m    316\u001b[0m         tb_log_name\u001b[39m=\u001b[39;49mtb_log_name,\n\u001b[1;32m    317\u001b[0m         eval_log_path\u001b[39m=\u001b[39;49meval_log_path,\n\u001b[1;32m    318\u001b[0m         reset_num_timesteps\u001b[39m=\u001b[39;49mreset_num_timesteps,\n\u001b[1;32m    319\u001b[0m         progress_bar\u001b[39m=\u001b[39;49mprogress_bar,\n\u001b[1;32m    320\u001b[0m     )\n",
      "File \u001b[0;32m~/.conda/envs/rl01/lib/python3.10/site-packages/stable_baselines3/common/off_policy_algorithm.py:375\u001b[0m, in \u001b[0;36mOffPolicyAlgorithm.learn\u001b[0;34m(self, total_timesteps, callback, log_interval, eval_env, eval_freq, n_eval_episodes, tb_log_name, eval_log_path, reset_num_timesteps, progress_bar)\u001b[0m\n\u001b[1;32m    373\u001b[0m         \u001b[39m# Special case when the user passes `gradient_steps=0`\u001b[39;00m\n\u001b[1;32m    374\u001b[0m         \u001b[39mif\u001b[39;00m gradient_steps \u001b[39m>\u001b[39m \u001b[39m0\u001b[39m:\n\u001b[0;32m--> 375\u001b[0m             \u001b[39mself\u001b[39;49m\u001b[39m.\u001b[39;49mtrain(batch_size\u001b[39m=\u001b[39;49m\u001b[39mself\u001b[39;49m\u001b[39m.\u001b[39;49mbatch_size, gradient_steps\u001b[39m=\u001b[39;49mgradient_steps)\n\u001b[1;32m    377\u001b[0m callback\u001b[39m.\u001b[39mon_training_end()\n\u001b[1;32m    379\u001b[0m \u001b[39mreturn\u001b[39;00m \u001b[39mself\u001b[39m\n",
      "File \u001b[0;32m~/.conda/envs/rl01/lib/python3.10/site-packages/stable_baselines3/sac/sac.py:264\u001b[0m, in \u001b[0;36mSAC.train\u001b[0;34m(self, gradient_steps, batch_size)\u001b[0m\n\u001b[1;32m    262\u001b[0m \u001b[39m# Optimize the critic\u001b[39;00m\n\u001b[1;32m    263\u001b[0m \u001b[39mself\u001b[39m\u001b[39m.\u001b[39mcritic\u001b[39m.\u001b[39moptimizer\u001b[39m.\u001b[39mzero_grad()\n\u001b[0;32m--> 264\u001b[0m critic_loss\u001b[39m.\u001b[39;49mbackward()\n\u001b[1;32m    265\u001b[0m \u001b[39mself\u001b[39m\u001b[39m.\u001b[39mcritic\u001b[39m.\u001b[39moptimizer\u001b[39m.\u001b[39mstep()\n\u001b[1;32m    267\u001b[0m \u001b[39m# Compute actor loss\u001b[39;00m\n\u001b[1;32m    268\u001b[0m \u001b[39m# Alternative: actor_loss = th.mean(log_prob - qf1_pi)\u001b[39;00m\n\u001b[1;32m    269\u001b[0m \u001b[39m# Min over all critic networks\u001b[39;00m\n",
      "File \u001b[0;32m~/.conda/envs/rl01/lib/python3.10/site-packages/torch/_tensor.py:396\u001b[0m, in \u001b[0;36mTensor.backward\u001b[0;34m(self, gradient, retain_graph, create_graph, inputs)\u001b[0m\n\u001b[1;32m    387\u001b[0m \u001b[39mif\u001b[39;00m has_torch_function_unary(\u001b[39mself\u001b[39m):\n\u001b[1;32m    388\u001b[0m     \u001b[39mreturn\u001b[39;00m handle_torch_function(\n\u001b[1;32m    389\u001b[0m         Tensor\u001b[39m.\u001b[39mbackward,\n\u001b[1;32m    390\u001b[0m         (\u001b[39mself\u001b[39m,),\n\u001b[0;32m   (...)\u001b[0m\n\u001b[1;32m    394\u001b[0m         create_graph\u001b[39m=\u001b[39mcreate_graph,\n\u001b[1;32m    395\u001b[0m         inputs\u001b[39m=\u001b[39minputs)\n\u001b[0;32m--> 396\u001b[0m torch\u001b[39m.\u001b[39;49mautograd\u001b[39m.\u001b[39;49mbackward(\u001b[39mself\u001b[39;49m, gradient, retain_graph, create_graph, inputs\u001b[39m=\u001b[39;49minputs)\n",
      "File \u001b[0;32m~/.conda/envs/rl01/lib/python3.10/site-packages/torch/autograd/__init__.py:173\u001b[0m, in \u001b[0;36mbackward\u001b[0;34m(tensors, grad_tensors, retain_graph, create_graph, grad_variables, inputs)\u001b[0m\n\u001b[1;32m    168\u001b[0m     retain_graph \u001b[39m=\u001b[39m create_graph\n\u001b[1;32m    170\u001b[0m \u001b[39m# The reason we repeat same the comment below is that\u001b[39;00m\n\u001b[1;32m    171\u001b[0m \u001b[39m# some Python versions print out the first line of a multi-line function\u001b[39;00m\n\u001b[1;32m    172\u001b[0m \u001b[39m# calls in the traceback and some print out the last line\u001b[39;00m\n\u001b[0;32m--> 173\u001b[0m Variable\u001b[39m.\u001b[39;49m_execution_engine\u001b[39m.\u001b[39;49mrun_backward(  \u001b[39m# Calls into the C++ engine to run the backward pass\u001b[39;49;00m\n\u001b[1;32m    174\u001b[0m     tensors, grad_tensors_, retain_graph, create_graph, inputs,\n\u001b[1;32m    175\u001b[0m     allow_unreachable\u001b[39m=\u001b[39;49m\u001b[39mTrue\u001b[39;49;00m, accumulate_grad\u001b[39m=\u001b[39;49m\u001b[39mTrue\u001b[39;49;00m)\n",
      "\u001b[0;31mKeyboardInterrupt\u001b[0m: "
     ]
    }
   ],
   "source": [
    "import gym\n",
    "from stable_baselines3 import SAC\n",
    "\n",
    "env = gym.make(env_id)\n",
    "model = SAC(\"MlpPolicy\", env, verbose=1, tensorboard_log=log_dir)\n",
    "model.learn(total_timesteps=500_000)\n",
    "model.save(model_fn)"
   ]
  },
  {
   "cell_type": "markdown",
   "id": "f3c528b3-c890-4d43-9854-6af07bfcc94f",
   "metadata": {
    "pycharm": {
     "name": "#%% md\n"
    }
   },
   "source": [
    "# Rollout"
   ]
  },
  {
   "cell_type": "code",
   "execution_count": 2,
   "metadata": {
    "collapsed": false,
    "pycharm": {
     "name": "#%%\n"
    }
   },
   "outputs": [],
   "source": [
    "video_folder = \"logs/videos/\"\n",
    "video_length = 1000"
   ]
  },
  {
   "cell_type": "markdown",
   "metadata": {
    "collapsed": false,
    "pycharm": {
     "name": "#%% md\n"
    }
   },
   "source": [
    "## Record random agent"
   ]
  },
  {
   "cell_type": "code",
   "execution_count": 3,
   "metadata": {
    "collapsed": false,
    "pycharm": {
     "name": "#%%\n"
    }
   },
   "outputs": [
    {
     "ename": "NoSuchDisplayException",
     "evalue": "Cannot connect to \"None\"",
     "output_type": "error",
     "traceback": [
      "\u001b[0;31m---------------------------------------------------------------------------\u001b[0m",
      "\u001b[0;31mNoSuchDisplayException\u001b[0m                    Traceback (most recent call last)",
      "Cell \u001b[0;32mIn [3], line 16\u001b[0m\n\u001b[1;32m      6\u001b[0m env \u001b[39m=\u001b[39m VecVideoRecorder(\n\u001b[1;32m      7\u001b[0m     env,\n\u001b[1;32m      8\u001b[0m     video_folder,\n\u001b[0;32m   (...)\u001b[0m\n\u001b[1;32m     11\u001b[0m     name_prefix\u001b[39m=\u001b[39m\u001b[39mf\u001b[39m\u001b[39m\"\u001b[39m\u001b[39mrandom-agent-\u001b[39m\u001b[39m{\u001b[39;00menv_id\u001b[39m}\u001b[39;00m\u001b[39m\"\u001b[39m,\n\u001b[1;32m     12\u001b[0m )\n\u001b[1;32m     14\u001b[0m n_steps \u001b[39m=\u001b[39m video_length\n\u001b[0;32m---> 16\u001b[0m obs \u001b[39m=\u001b[39m env\u001b[39m.\u001b[39;49mreset()\n\u001b[1;32m     17\u001b[0m \u001b[39mfor\u001b[39;00m i \u001b[39min\u001b[39;00m \u001b[39mrange\u001b[39m(n_steps):\n\u001b[1;32m     18\u001b[0m     action \u001b[39m=\u001b[39m [env\u001b[39m.\u001b[39maction_space\u001b[39m.\u001b[39msample()]\n",
      "File \u001b[0;32m~/.conda/envs/rl01/lib/python3.10/site-packages/stable_baselines3/common/vec_env/vec_video_recorder.py:68\u001b[0m, in \u001b[0;36mVecVideoRecorder.reset\u001b[0;34m(self)\u001b[0m\n\u001b[1;32m     66\u001b[0m \u001b[39mdef\u001b[39;00m \u001b[39mreset\u001b[39m(\u001b[39mself\u001b[39m) \u001b[39m-\u001b[39m\u001b[39m>\u001b[39m VecEnvObs:\n\u001b[1;32m     67\u001b[0m     obs \u001b[39m=\u001b[39m \u001b[39mself\u001b[39m\u001b[39m.\u001b[39mvenv\u001b[39m.\u001b[39mreset()\n\u001b[0;32m---> 68\u001b[0m     \u001b[39mself\u001b[39;49m\u001b[39m.\u001b[39;49mstart_video_recorder()\n\u001b[1;32m     69\u001b[0m     \u001b[39mreturn\u001b[39;00m obs\n",
      "File \u001b[0;32m~/.conda/envs/rl01/lib/python3.10/site-packages/stable_baselines3/common/vec_env/vec_video_recorder.py:80\u001b[0m, in \u001b[0;36mVecVideoRecorder.start_video_recorder\u001b[0;34m(self)\u001b[0m\n\u001b[1;32m     75\u001b[0m base_path \u001b[39m=\u001b[39m os\u001b[39m.\u001b[39mpath\u001b[39m.\u001b[39mjoin(\u001b[39mself\u001b[39m\u001b[39m.\u001b[39mvideo_folder, video_name)\n\u001b[1;32m     76\u001b[0m \u001b[39mself\u001b[39m\u001b[39m.\u001b[39mvideo_recorder \u001b[39m=\u001b[39m video_recorder\u001b[39m.\u001b[39mVideoRecorder(\n\u001b[1;32m     77\u001b[0m     env\u001b[39m=\u001b[39m\u001b[39mself\u001b[39m\u001b[39m.\u001b[39menv, base_path\u001b[39m=\u001b[39mbase_path, metadata\u001b[39m=\u001b[39m{\u001b[39m\"\u001b[39m\u001b[39mstep_id\u001b[39m\u001b[39m\"\u001b[39m: \u001b[39mself\u001b[39m\u001b[39m.\u001b[39mstep_id}\n\u001b[1;32m     78\u001b[0m )\n\u001b[0;32m---> 80\u001b[0m \u001b[39mself\u001b[39;49m\u001b[39m.\u001b[39;49mvideo_recorder\u001b[39m.\u001b[39;49mcapture_frame()\n\u001b[1;32m     81\u001b[0m \u001b[39mself\u001b[39m\u001b[39m.\u001b[39mrecorded_frames \u001b[39m=\u001b[39m \u001b[39m1\u001b[39m\n\u001b[1;32m     82\u001b[0m \u001b[39mself\u001b[39m\u001b[39m.\u001b[39mrecording \u001b[39m=\u001b[39m \u001b[39mTrue\u001b[39;00m\n",
      "File \u001b[0;32m~/.conda/envs/rl01/lib/python3.10/site-packages/gym/wrappers/monitoring/video_recorder.py:132\u001b[0m, in \u001b[0;36mVideoRecorder.capture_frame\u001b[0;34m(self)\u001b[0m\n\u001b[1;32m    129\u001b[0m logger\u001b[39m.\u001b[39mdebug(\u001b[39m\"\u001b[39m\u001b[39mCapturing video frame: path=\u001b[39m\u001b[39m%s\u001b[39;00m\u001b[39m\"\u001b[39m, \u001b[39mself\u001b[39m\u001b[39m.\u001b[39mpath)\n\u001b[1;32m    131\u001b[0m render_mode \u001b[39m=\u001b[39m \u001b[39m\"\u001b[39m\u001b[39mansi\u001b[39m\u001b[39m\"\u001b[39m \u001b[39mif\u001b[39;00m \u001b[39mself\u001b[39m\u001b[39m.\u001b[39mansi_mode \u001b[39melse\u001b[39;00m \u001b[39m\"\u001b[39m\u001b[39mrgb_array\u001b[39m\u001b[39m\"\u001b[39m\n\u001b[0;32m--> 132\u001b[0m frame \u001b[39m=\u001b[39m \u001b[39mself\u001b[39;49m\u001b[39m.\u001b[39;49menv\u001b[39m.\u001b[39;49mrender(mode\u001b[39m=\u001b[39;49mrender_mode)\n\u001b[1;32m    134\u001b[0m \u001b[39mif\u001b[39;00m frame \u001b[39mis\u001b[39;00m \u001b[39mNone\u001b[39;00m:\n\u001b[1;32m    135\u001b[0m     \u001b[39mif\u001b[39;00m \u001b[39mself\u001b[39m\u001b[39m.\u001b[39m_async:\n",
      "File \u001b[0;32m~/.conda/envs/rl01/lib/python3.10/site-packages/stable_baselines3/common/vec_env/dummy_vec_env.py:87\u001b[0m, in \u001b[0;36mDummyVecEnv.render\u001b[0;34m(self, mode)\u001b[0m\n\u001b[1;32m     75\u001b[0m \u001b[39m\"\"\"\u001b[39;00m\n\u001b[1;32m     76\u001b[0m \u001b[39mGym environment rendering. If there are multiple environments then\u001b[39;00m\n\u001b[1;32m     77\u001b[0m \u001b[39mthey are tiled together in one image via ``BaseVecEnv.render()``.\u001b[39;00m\n\u001b[0;32m   (...)\u001b[0m\n\u001b[1;32m     84\u001b[0m \u001b[39m:param mode: The rendering type.\u001b[39;00m\n\u001b[1;32m     85\u001b[0m \u001b[39m\"\"\"\u001b[39;00m\n\u001b[1;32m     86\u001b[0m \u001b[39mif\u001b[39;00m \u001b[39mself\u001b[39m\u001b[39m.\u001b[39mnum_envs \u001b[39m==\u001b[39m \u001b[39m1\u001b[39m:\n\u001b[0;32m---> 87\u001b[0m     \u001b[39mreturn\u001b[39;00m \u001b[39mself\u001b[39;49m\u001b[39m.\u001b[39;49menvs[\u001b[39m0\u001b[39;49m]\u001b[39m.\u001b[39;49mrender(mode\u001b[39m=\u001b[39;49mmode)\n\u001b[1;32m     88\u001b[0m \u001b[39melse\u001b[39;00m:\n\u001b[1;32m     89\u001b[0m     \u001b[39mreturn\u001b[39;00m \u001b[39msuper\u001b[39m()\u001b[39m.\u001b[39mrender(mode\u001b[39m=\u001b[39mmode)\n",
      "File \u001b[0;32m~/.conda/envs/rl01/lib/python3.10/site-packages/gym/core.py:295\u001b[0m, in \u001b[0;36mWrapper.render\u001b[0;34m(self, mode, **kwargs)\u001b[0m\n\u001b[1;32m    294\u001b[0m \u001b[39mdef\u001b[39;00m \u001b[39mrender\u001b[39m(\u001b[39mself\u001b[39m, mode\u001b[39m=\u001b[39m\u001b[39m\"\u001b[39m\u001b[39mhuman\u001b[39m\u001b[39m\"\u001b[39m, \u001b[39m*\u001b[39m\u001b[39m*\u001b[39mkwargs):\n\u001b[0;32m--> 295\u001b[0m     \u001b[39mreturn\u001b[39;00m \u001b[39mself\u001b[39;49m\u001b[39m.\u001b[39;49menv\u001b[39m.\u001b[39;49mrender(mode, \u001b[39m*\u001b[39;49m\u001b[39m*\u001b[39;49mkwargs)\n",
      "File \u001b[0;32m~/.conda/envs/rl01/lib/python3.10/site-packages/gym/envs/box2d/bipedal_walker.py:491\u001b[0m, in \u001b[0;36mBipedalWalker.render\u001b[0;34m(self, mode)\u001b[0m\n\u001b[1;32m    490\u001b[0m \u001b[39mdef\u001b[39;00m \u001b[39mrender\u001b[39m(\u001b[39mself\u001b[39m, mode\u001b[39m=\u001b[39m\u001b[39m\"\u001b[39m\u001b[39mhuman\u001b[39m\u001b[39m\"\u001b[39m):\n\u001b[0;32m--> 491\u001b[0m     \u001b[39mfrom\u001b[39;00m \u001b[39mgym\u001b[39;00m\u001b[39m.\u001b[39;00m\u001b[39menvs\u001b[39;00m\u001b[39m.\u001b[39;00m\u001b[39mclassic_control\u001b[39;00m \u001b[39mimport\u001b[39;00m rendering\n\u001b[1;32m    493\u001b[0m     \u001b[39mif\u001b[39;00m \u001b[39mself\u001b[39m\u001b[39m.\u001b[39mviewer \u001b[39mis\u001b[39;00m \u001b[39mNone\u001b[39;00m:\n\u001b[1;32m    494\u001b[0m         \u001b[39mself\u001b[39m\u001b[39m.\u001b[39mviewer \u001b[39m=\u001b[39m rendering\u001b[39m.\u001b[39mViewer(VIEWPORT_W, VIEWPORT_H)\n",
      "File \u001b[0;32m~/.conda/envs/rl01/lib/python3.10/site-packages/gym/envs/classic_control/rendering.py:27\u001b[0m\n\u001b[1;32m     17\u001b[0m     \u001b[39mraise\u001b[39;00m \u001b[39mImportError\u001b[39;00m(\n\u001b[1;32m     18\u001b[0m         \u001b[39m\"\"\"\u001b[39;00m\n\u001b[1;32m     19\u001b[0m \u001b[39m    Cannot import pyglet.\u001b[39;00m\n\u001b[0;32m   (...)\u001b[0m\n\u001b[1;32m     23\u001b[0m \u001b[39m    \"\"\"\u001b[39;00m\n\u001b[1;32m     24\u001b[0m     )\n\u001b[1;32m     26\u001b[0m \u001b[39mtry\u001b[39;00m:\n\u001b[0;32m---> 27\u001b[0m     \u001b[39mfrom\u001b[39;00m \u001b[39mpyglet\u001b[39;00m\u001b[39m.\u001b[39;00m\u001b[39mgl\u001b[39;00m \u001b[39mimport\u001b[39;00m \u001b[39m*\u001b[39m\n\u001b[1;32m     28\u001b[0m \u001b[39mexcept\u001b[39;00m \u001b[39mImportError\u001b[39;00m \u001b[39mas\u001b[39;00m e:\n\u001b[1;32m     29\u001b[0m     \u001b[39mraise\u001b[39;00m \u001b[39mImportError\u001b[39;00m(\n\u001b[1;32m     30\u001b[0m         \u001b[39m\"\"\"\u001b[39;00m\n\u001b[1;32m     31\u001b[0m \u001b[39m    Error occurred while running `from pyglet.gl import *`\u001b[39;00m\n\u001b[0;32m   (...)\u001b[0m\n\u001b[1;32m     35\u001b[0m \u001b[39m    \"\"\"\u001b[39;00m\n\u001b[1;32m     36\u001b[0m     )\n",
      "File \u001b[0;32m~/.conda/envs/rl01/lib/python3.10/site-packages/pyglet/gl/__init__.py:232\u001b[0m\n\u001b[1;32m    229\u001b[0m \u001b[39mif\u001b[39;00m \u001b[39mnot\u001b[39;00m _is_pyglet_doc_run \u001b[39mand\u001b[39;00m \u001b[39m'\u001b[39m\u001b[39mpyglet.window\u001b[39m\u001b[39m'\u001b[39m \u001b[39mnot\u001b[39;00m \u001b[39min\u001b[39;00m _sys\u001b[39m.\u001b[39mmodules \u001b[39mand\u001b[39;00m _pyglet\u001b[39m.\u001b[39moptions[\u001b[39m'\u001b[39m\u001b[39mshadow_window\u001b[39m\u001b[39m'\u001b[39m]:\n\u001b[1;32m    230\u001b[0m     \u001b[39m# trickery is for circular import\u001b[39;00m\n\u001b[1;32m    231\u001b[0m     _pyglet\u001b[39m.\u001b[39mgl \u001b[39m=\u001b[39m _sys\u001b[39m.\u001b[39mmodules[\u001b[39m__name__\u001b[39m]\n\u001b[0;32m--> 232\u001b[0m     \u001b[39mimport\u001b[39;00m \u001b[39mpyglet\u001b[39;00m\u001b[39m.\u001b[39;00m\u001b[39mwindow\u001b[39;00m\n",
      "File \u001b[0;32m~/.conda/envs/rl01/lib/python3.10/site-packages/pyglet/window/__init__.py:1919\u001b[0m\n\u001b[1;32m   1917\u001b[0m \u001b[39mif\u001b[39;00m \u001b[39mnot\u001b[39;00m _is_pyglet_doc_run:\n\u001b[1;32m   1918\u001b[0m     pyglet\u001b[39m.\u001b[39mwindow \u001b[39m=\u001b[39m sys\u001b[39m.\u001b[39mmodules[\u001b[39m__name__\u001b[39m]\n\u001b[0;32m-> 1919\u001b[0m     gl\u001b[39m.\u001b[39;49m_create_shadow_window()\n",
      "File \u001b[0;32m~/.conda/envs/rl01/lib/python3.10/site-packages/pyglet/gl/__init__.py:206\u001b[0m, in \u001b[0;36m_create_shadow_window\u001b[0;34m()\u001b[0m\n\u001b[1;32m    203\u001b[0m     \u001b[39mreturn\u001b[39;00m\n\u001b[1;32m    205\u001b[0m \u001b[39mfrom\u001b[39;00m \u001b[39mpyglet\u001b[39;00m\u001b[39m.\u001b[39;00m\u001b[39mwindow\u001b[39;00m \u001b[39mimport\u001b[39;00m Window\n\u001b[0;32m--> 206\u001b[0m _shadow_window \u001b[39m=\u001b[39m Window(width\u001b[39m=\u001b[39;49m\u001b[39m1\u001b[39;49m, height\u001b[39m=\u001b[39;49m\u001b[39m1\u001b[39;49m, visible\u001b[39m=\u001b[39;49m\u001b[39mFalse\u001b[39;49;00m)\n\u001b[1;32m    207\u001b[0m _shadow_window\u001b[39m.\u001b[39mswitch_to()\n\u001b[1;32m    209\u001b[0m \u001b[39mfrom\u001b[39;00m \u001b[39mpyglet\u001b[39;00m \u001b[39mimport\u001b[39;00m app\n",
      "File \u001b[0;32m~/.conda/envs/rl01/lib/python3.10/site-packages/pyglet/window/xlib/__init__.py:171\u001b[0m, in \u001b[0;36mXlibWindow.__init__\u001b[0;34m(self, *args, **kwargs)\u001b[0m\n\u001b[1;32m    168\u001b[0m         \u001b[39melse\u001b[39;00m:\n\u001b[1;32m    169\u001b[0m             \u001b[39mself\u001b[39m\u001b[39m.\u001b[39m_event_handlers[message] \u001b[39m=\u001b[39m func\n\u001b[0;32m--> 171\u001b[0m \u001b[39msuper\u001b[39;49m(XlibWindow, \u001b[39mself\u001b[39;49m)\u001b[39m.\u001b[39;49m\u001b[39m__init__\u001b[39;49m(\u001b[39m*\u001b[39;49margs, \u001b[39m*\u001b[39;49m\u001b[39m*\u001b[39;49mkwargs)\n\u001b[1;32m    173\u001b[0m \u001b[39mglobal\u001b[39;00m _can_detect_autorepeat\n\u001b[1;32m    174\u001b[0m \u001b[39mif\u001b[39;00m _can_detect_autorepeat \u001b[39mis\u001b[39;00m \u001b[39mNone\u001b[39;00m:\n",
      "File \u001b[0;32m~/.conda/envs/rl01/lib/python3.10/site-packages/pyglet/window/__init__.py:591\u001b[0m, in \u001b[0;36mBaseWindow.__init__\u001b[0;34m(self, width, height, caption, resizable, style, fullscreen, visible, vsync, file_drops, display, screen, config, context, mode)\u001b[0m\n\u001b[1;32m    588\u001b[0m \u001b[39mself\u001b[39m\u001b[39m.\u001b[39m_event_queue \u001b[39m=\u001b[39m []\n\u001b[1;32m    590\u001b[0m \u001b[39mif\u001b[39;00m \u001b[39mnot\u001b[39;00m display:\n\u001b[0;32m--> 591\u001b[0m     display \u001b[39m=\u001b[39m pyglet\u001b[39m.\u001b[39;49mcanvas\u001b[39m.\u001b[39;49mget_display()\n\u001b[1;32m    593\u001b[0m \u001b[39mif\u001b[39;00m \u001b[39mnot\u001b[39;00m screen:\n\u001b[1;32m    594\u001b[0m     screen \u001b[39m=\u001b[39m display\u001b[39m.\u001b[39mget_default_screen()\n",
      "File \u001b[0;32m~/.conda/envs/rl01/lib/python3.10/site-packages/pyglet/canvas/__init__.py:94\u001b[0m, in \u001b[0;36mget_display\u001b[0;34m()\u001b[0m\n\u001b[1;32m     91\u001b[0m     \u001b[39mreturn\u001b[39;00m display\n\u001b[1;32m     93\u001b[0m \u001b[39m# Otherwise, create a new display and return it.\u001b[39;00m\n\u001b[0;32m---> 94\u001b[0m \u001b[39mreturn\u001b[39;00m Display()\n",
      "File \u001b[0;32m~/.conda/envs/rl01/lib/python3.10/site-packages/pyglet/canvas/xlib.py:123\u001b[0m, in \u001b[0;36mXlibDisplay.__init__\u001b[0;34m(self, name, x_screen)\u001b[0m\n\u001b[1;32m    121\u001b[0m \u001b[39mself\u001b[39m\u001b[39m.\u001b[39m_display \u001b[39m=\u001b[39m xlib\u001b[39m.\u001b[39mXOpenDisplay(name)\n\u001b[1;32m    122\u001b[0m \u001b[39mif\u001b[39;00m \u001b[39mnot\u001b[39;00m \u001b[39mself\u001b[39m\u001b[39m.\u001b[39m_display:\n\u001b[0;32m--> 123\u001b[0m     \u001b[39mraise\u001b[39;00m NoSuchDisplayException(\u001b[39m'\u001b[39m\u001b[39mCannot connect to \u001b[39m\u001b[39m\"\u001b[39m\u001b[39m%s\u001b[39;00m\u001b[39m\"\u001b[39m\u001b[39m'\u001b[39m \u001b[39m%\u001b[39m name)\n\u001b[1;32m    125\u001b[0m screen_count \u001b[39m=\u001b[39m xlib\u001b[39m.\u001b[39mXScreenCount(\u001b[39mself\u001b[39m\u001b[39m.\u001b[39m_display)\n\u001b[1;32m    126\u001b[0m \u001b[39mif\u001b[39;00m x_screen \u001b[39m>\u001b[39m\u001b[39m=\u001b[39m screen_count:\n",
      "\u001b[0;31mNoSuchDisplayException\u001b[0m: Cannot connect to \"None\""
     ]
    }
   ],
   "source": [
    "import gym\n",
    "from stable_baselines3.common.vec_env import VecVideoRecorder, DummyVecEnv\n",
    "\n",
    "# This creates a vectorized env (here of length 1). Is useful for parallelization\n",
    "# when we have several workers that can perform individual rollouts.\n",
    "env = DummyVecEnv([lambda: gym.make(env_id)])\n",
    "\n",
    "env = VecVideoRecorder(\n",
    "    env,\n",
    "    video_folder,\n",
    "    record_video_trigger=lambda x: x == 0,\n",
    "    video_length=video_length,\n",
    "    name_prefix=f\"random-agent-{env_id}\",\n",
    ")\n",
    "\n",
    "n_steps = video_length\n",
    "\n",
    "# Reset and initialize the environment\n",
    "obs = env.reset()\n",
    "\n",
    "# For the number of frames\n",
    "for i in range(n_steps):\n",
    "    # Sample a random action from the action space\n",
    "    action = [env.action_space.sample()]\n",
    "\n",
    "    # Step the environment\n",
    "    obs, reward, done, info = env.step(action)\n",
    "    if done:\n",
    "        # If the env signals the end of the episode, stop recording\n",
    "        break\n",
    "        obs = env.reset()\n",
    "# Close / cleanup env\n",
    "env.close()"
   ]
  },
  {
   "cell_type": "markdown",
   "metadata": {
    "collapsed": false,
    "pycharm": {
     "name": "#%% md\n"
    }
   },
   "source": [
    "## Record trained agent"
   ]
  },
  {
   "cell_type": "code",
   "execution_count": null,
   "metadata": {
    "collapsed": false,
    "pycharm": {
     "name": "#%%\n"
    }
   },
   "outputs": [],
   "source": [
    "from stable_baselines3 import SAC\n",
    "import gym\n",
    "from stable_baselines3.common.vec_env import VecVideoRecorder, DummyVecEnv\n",
    "\n",
    "env = DummyVecEnv([lambda: gym.make(env_id)])\n",
    "\n",
    "# Record the video starting at the first step\n",
    "env = VecVideoRecorder(\n",
    "    env,\n",
    "    video_folder,\n",
    "    record_video_trigger=lambda x: x == 0,\n",
    "    video_length=video_length,\n",
    "    name_prefix=f\"trained-agent-{env_id}\",\n",
    ")\n",
    "\n",
    "model = SAC.load(model_fn)\n",
    "\n",
    "n_steps = video_length\n",
    "\n",
    "obs = env.reset()\n",
    "for i in range(n_steps):\n",
    "    # Now PREDICT the action to take with the trained model 🤖\n",
    "    action, _states = model.predict(obs, deterministic=True)\n",
    "    obs, reward, done, info = env.step(action)\n",
    "    if done:\n",
    "        break\n",
    "        obs = env.reset()\n",
    "env.close()"
   ]
  }
 ],
 "metadata": {
  "kernelspec": {
   "display_name": "Python 3.10.6 ('rl01')",
   "language": "python",
   "name": "python3"
  },
  "language_info": {
   "codemirror_mode": {
    "name": "ipython",
    "version": 3
   },
   "file_extension": ".py",
   "mimetype": "text/x-python",
   "name": "python",
   "nbconvert_exporter": "python",
   "pygments_lexer": "ipython3",
   "version": "3.10.6"
  },
  "vscode": {
   "interpreter": {
    "hash": "35e7773a79db726e11d192af5488f5d19ce21229b688da98759b0df31201ec10"
   }
  }
 },
 "nbformat": 4,
 "nbformat_minor": 5
}
