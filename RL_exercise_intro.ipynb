{
 "cells": [
  {
   "cell_type": "markdown",
   "id": "a37d9151-dcbf-4c7f-8d0b-c697b3fdbc13",
   "metadata": {
    "pycharm": {
     "name": "#%% md\n"
    }
   },
   "source": [
    "# RL Exercise Demo\n",
    "This exercise serves as a demonstration how to quickly train an RL agent on a popular environment with a RL framework.\n",
    "We will\n",
    "1. Select and instantiate and environment (gym's Hopper-v3).\n",
    "2. Select and setup our RL algorithm / agent (stablebaselines3 TQC [TODO add ref]).\n",
    "3. Train the agent on the environment and visualize training progress.\n",
    "4. Evaluate our agent and observe the distribution of test performances.\n",
    "5. Record and replay the agent, before and after.\n",
    "5. Optimize the agent's hyperparameters with SMAC.\n",
    "\n",
    "Notes\n",
    "- https://github.com/Stable-Baselines-Team/rl-colab-notebooks/blob/sb3/monitor_training.ipynb"
   ]
  },
  {
   "cell_type": "markdown",
   "id": "d3c4b5e2-e487-4b04-8c55-3938b4d82529",
   "metadata": {
    "pycharm": {
     "name": "#%% md\n"
    }
   },
   "source": [
    "## The Environment: Bipedal Walker\n",
    "![Bipedal Walker](bipedal_walker.gif) [credits](https://www.gymlibrary.dev/_images/bipedal_walker.gif)\n"
   ]
  },
  {
   "cell_type": "code",
   "execution_count": 4,
   "id": "22de499d-f2cd-4d95-b61b-1827650d001b",
   "metadata": {
    "pycharm": {
     "name": "#%%\n"
    }
   },
   "outputs": [],
   "source": [
    "import gym\n",
    "env = gym.make(\"BipedalWalker-v3\")"
   ]
  },
  {
   "cell_type": "markdown",
   "id": "a267d6a0-dcd5-42d2-83e2-a70cf4518e36",
   "metadata": {
    "pycharm": {
     "name": "#%% md\n"
    }
   },
   "source": [
    "## The Agent: TQC\n",
    "[todo add paper]"
   ]
  },
  {
   "cell_type": "code",
   "execution_count": null,
   "id": "6b794a7c-86f1-4675-aa8f-9e81f2ca4f4b",
   "metadata": {
    "pycharm": {
     "name": "#%%\n",
     "is_executing": true
    }
   },
   "outputs": [
    {
     "name": "stdout",
     "output_type": "stream",
     "text": [
      "Using cpu device\n",
      "Wrapping the env with a `Monitor` wrapper\n",
      "Wrapping the env in a DummyVecEnv.\n",
      "---------------------------------\n",
      "| rollout/           |          |\n",
      "|    ep_len_mean     | 119      |\n",
      "|    ep_rew_mean     | -117     |\n",
      "| time/              |          |\n",
      "|    episodes        | 4        |\n",
      "|    fps             | 151      |\n",
      "|    time_elapsed    | 3        |\n",
      "|    total_timesteps | 476      |\n",
      "| train/             |          |\n",
      "|    actor_loss      | -6.48    |\n",
      "|    critic_loss     | 25.9     |\n",
      "|    ent_coef        | 0.895    |\n",
      "|    ent_coef_loss   | -0.691   |\n",
      "|    learning_rate   | 0.0003   |\n",
      "|    n_updates       | 375      |\n",
      "---------------------------------\n",
      "---------------------------------\n",
      "| rollout/           |          |\n",
      "|    ep_len_mean     | 110      |\n",
      "|    ep_rew_mean     | -117     |\n",
      "| time/              |          |\n",
      "|    episodes        | 8        |\n",
      "|    fps             | 136      |\n",
      "|    time_elapsed    | 6        |\n",
      "|    total_timesteps | 883      |\n",
      "| train/             |          |\n",
      "|    actor_loss      | -8.88    |\n",
      "|    critic_loss     | 108      |\n",
      "|    ent_coef        | 0.795    |\n",
      "|    ent_coef_loss   | -1.37    |\n",
      "|    learning_rate   | 0.0003   |\n",
      "|    n_updates       | 782      |\n",
      "---------------------------------\n",
      "---------------------------------\n",
      "| rollout/           |          |\n",
      "|    ep_len_mean     | 224      |\n",
      "|    ep_rew_mean     | -112     |\n",
      "| time/              |          |\n",
      "|    episodes        | 12       |\n",
      "|    fps             | 126      |\n",
      "|    time_elapsed    | 21       |\n",
      "|    total_timesteps | 2689     |\n",
      "| train/             |          |\n",
      "|    actor_loss      | -16.1    |\n",
      "|    critic_loss     | 2.79     |\n",
      "|    ent_coef        | 0.47     |\n",
      "|    ent_coef_loss   | -4.33    |\n",
      "|    learning_rate   | 0.0003   |\n",
      "|    n_updates       | 2588     |\n",
      "---------------------------------\n",
      "---------------------------------\n",
      "| rollout/           |          |\n",
      "|    ep_len_mean     | 196      |\n",
      "|    ep_rew_mean     | -114     |\n",
      "| time/              |          |\n",
      "|    episodes        | 16       |\n",
      "|    fps             | 126      |\n",
      "|    time_elapsed    | 24       |\n",
      "|    total_timesteps | 3144     |\n",
      "| train/             |          |\n",
      "|    actor_loss      | -17      |\n",
      "|    critic_loss     | 3.54     |\n",
      "|    ent_coef        | 0.412    |\n",
      "|    ent_coef_loss   | -4.9     |\n",
      "|    learning_rate   | 0.0003   |\n",
      "|    n_updates       | 3043     |\n",
      "---------------------------------\n",
      "---------------------------------\n",
      "| rollout/           |          |\n",
      "|    ep_len_mean     | 171      |\n",
      "|    ep_rew_mean     | -113     |\n",
      "| time/              |          |\n",
      "|    episodes        | 20       |\n",
      "|    fps             | 126      |\n",
      "|    time_elapsed    | 27       |\n",
      "|    total_timesteps | 3428     |\n",
      "| train/             |          |\n",
      "|    actor_loss      | -16.6    |\n",
      "|    critic_loss     | 6.38     |\n",
      "|    ent_coef        | 0.38     |\n",
      "|    ent_coef_loss   | -5.33    |\n",
      "|    learning_rate   | 0.0003   |\n",
      "|    n_updates       | 3327     |\n",
      "---------------------------------\n",
      "---------------------------------\n",
      "| rollout/           |          |\n",
      "|    ep_len_mean     | 158      |\n",
      "|    ep_rew_mean     | -114     |\n",
      "| time/              |          |\n",
      "|    episodes        | 24       |\n",
      "|    fps             | 126      |\n",
      "|    time_elapsed    | 30       |\n",
      "|    total_timesteps | 3799     |\n",
      "| train/             |          |\n",
      "|    actor_loss      | -18.7    |\n",
      "|    critic_loss     | 5.68     |\n",
      "|    ent_coef        | 0.342    |\n",
      "|    ent_coef_loss   | -5.55    |\n",
      "|    learning_rate   | 0.0003   |\n",
      "|    n_updates       | 3698     |\n",
      "---------------------------------\n",
      "---------------------------------\n",
      "| rollout/           |          |\n",
      "|    ep_len_mean     | 151      |\n",
      "|    ep_rew_mean     | -114     |\n",
      "| time/              |          |\n",
      "|    episodes        | 28       |\n",
      "|    fps             | 126      |\n",
      "|    time_elapsed    | 33       |\n",
      "|    total_timesteps | 4220     |\n",
      "| train/             |          |\n",
      "|    actor_loss      | -15.9    |\n",
      "|    critic_loss     | 8.42     |\n",
      "|    ent_coef        | 0.305    |\n",
      "|    ent_coef_loss   | -5.7     |\n",
      "|    learning_rate   | 0.0003   |\n",
      "|    n_updates       | 4119     |\n",
      "---------------------------------\n",
      "---------------------------------\n",
      "| rollout/           |          |\n",
      "|    ep_len_mean     | 142      |\n",
      "|    ep_rew_mean     | -112     |\n",
      "| time/              |          |\n",
      "|    episodes        | 32       |\n",
      "|    fps             | 126      |\n",
      "|    time_elapsed    | 35       |\n",
      "|    total_timesteps | 4534     |\n",
      "| train/             |          |\n",
      "|    actor_loss      | -17.4    |\n",
      "|    critic_loss     | 6.69     |\n",
      "|    ent_coef        | 0.28     |\n",
      "|    ent_coef_loss   | -6.28    |\n",
      "|    learning_rate   | 0.0003   |\n",
      "|    n_updates       | 4433     |\n",
      "---------------------------------\n",
      "---------------------------------\n",
      "| rollout/           |          |\n",
      "|    ep_len_mean     | 139      |\n",
      "|    ep_rew_mean     | -112     |\n",
      "| time/              |          |\n",
      "|    episodes        | 36       |\n",
      "|    fps             | 126      |\n",
      "|    time_elapsed    | 39       |\n",
      "|    total_timesteps | 4990     |\n",
      "| train/             |          |\n",
      "|    actor_loss      | -16.6    |\n",
      "|    critic_loss     | 4.87     |\n",
      "|    ent_coef        | 0.248    |\n",
      "|    ent_coef_loss   | -6.52    |\n",
      "|    learning_rate   | 0.0003   |\n",
      "|    n_updates       | 4889     |\n",
      "---------------------------------\n",
      "---------------------------------\n",
      "| rollout/           |          |\n",
      "|    ep_len_mean     | 134      |\n",
      "|    ep_rew_mean     | -112     |\n",
      "| time/              |          |\n",
      "|    episodes        | 40       |\n",
      "|    fps             | 127      |\n",
      "|    time_elapsed    | 42       |\n",
      "|    total_timesteps | 5364     |\n",
      "| train/             |          |\n",
      "|    actor_loss      | -13.5    |\n",
      "|    critic_loss     | 14.9     |\n",
      "|    ent_coef        | 0.224    |\n",
      "|    ent_coef_loss   | -6.05    |\n",
      "|    learning_rate   | 0.0003   |\n",
      "|    n_updates       | 5263     |\n",
      "---------------------------------\n"
     ]
    }
   ],
   "source": [
    "from stable_baselines3 import SAC\n",
    "model_fn = \"trained_agent.zip\"\n",
    "model = SAC(\"MlpPolicy\", env, verbose=1)\n",
    "model.learn(total_timesteps=500_000)\n",
    "model.save(model_fn)"
   ]
  },
  {
   "cell_type": "markdown",
   "id": "f3c528b3-c890-4d43-9854-6af07bfcc94f",
   "metadata": {
    "pycharm": {
     "name": "#%% md\n"
    }
   },
   "source": [
    "# Rollout"
   ]
  },
  {
   "cell_type": "code",
   "execution_count": null,
   "id": "e18eb2d7-d711-4b74-bc0f-c01f24658785",
   "metadata": {
    "pycharm": {
     "name": "#%%\n"
    }
   },
   "outputs": [],
   "source": [
    "from stable_baselines3 import SAC\n",
    "\n",
    "env = TrainMonitor(env)  # attach a logger to record video\n",
    "\n",
    "model = SAC.load(model_fn)\n",
    "random_model = SAC(\"MlpPolicy\", env, verbose=1)\n",
    "\n",
    "n_steps = 1000  # run simulation for this number of steps\n",
    "\n",
    "obs = env.reset()\n",
    "for i in range(n_steps):\n",
    "    action, _states = model.predict(obs, deterministic=True)\n",
    "    obs, reward, done, info = env.step(action)\n",
    "    if done:\n",
    "      obs = env.reset()\n",
    "env.close()"
   ]
  },
  {
   "cell_type": "markdown",
   "id": "4bbd131e-67d8-4195-ac93-9b8495d3e780",
   "metadata": {
    "pycharm": {
     "name": "#%% md\n"
    }
   },
   "source": [
    "## Optimize Hyperparameters\n",
    "Often RL algorithms don't converge if the hyperparameters are not configured properly. Or we just want to find out whether we could increase performance further. For this optimize the hyperparameters (HPs) of the RL algorithm/agent.\n",
    "\n",
    "### What Hyperparameters to Optimize?\n",
    "We do not optimize every possible hyperparameter but focus on those which often have a high impact on the learning dynamics, such as the learning rate (step size) or gamma. \n",
    "\n",
    "### How to Set Up the Search Space?\n",
    "For this we need to define our search space, that is, what values we allow for these HPs. It is okay to set a broad range however if there is already an intuition we might set a smaller interval for searching. This way we might get a better solution faster because of the smaller resulting search space. \n",
    "\n",
    "### What Method to Use for Hyperparameter Optimization?\n",
    "Oftentimes people rely on **manual search** for various reasons. However it is often more time-efficient if we use principled and automated methods for the search. Another common approach is **grid search**. This at first seems appealing because we humans like structure. For a HP search space it is better though to sample randomly because we cover the search space way better, see the image below. **So use random search instead of grid search**.\n",
    "[todo add image grid search vs manual search]\n",
    "Those approaches do not use past observed data points to try the next HP configuration. **Bayesian Optimization (BO)** uses a model to incorporate seen data points to approximate the HP optimization landscape. From this model we can smartly sample new HP configurations to try. BO therefore is really sample-efficient (does not need many evaluations/data points to find the optimum. This of course also depends on the number of HPs we would like to optimize).\n",
    "For this optimization we use **SMAC** [todo cite] and especially a multi-fidelity approach (we don't always let the run finish but look early on how the progress and performance is), namely BOHB [todo cite]."
   ]
  },
  {
   "cell_type": "markdown",
   "id": "975f23c1-b24a-442b-846b-a3b3d64acc79",
   "metadata": {
    "pycharm": {
     "name": "#%% md\n"
    }
   },
   "source": [
    "### HPO Naming Conventions\n",
    "- configuration = hyperparameters to use\n",
    "- configuration space = search space, how we can set the hyperparameters\n",
    "- incumbent = best configuration / hyperparameters found so far\n",
    "- target algorithm = the function or algorithm we want to optimize (find the best hyperparameters for)\n",
    "- trajectory = progress of incumbent value\n"
   ]
  },
  {
   "cell_type": "code",
   "execution_count": 1,
   "id": "87c12263-a256-461b-a2c0-35feb6354f1f",
   "metadata": {
    "pycharm": {
     "name": "#%%\n"
    }
   },
   "outputs": [
    {
     "ename": "ModuleNotFoundError",
     "evalue": "No module named 'smac'",
     "output_type": "error",
     "traceback": [
      "\u001B[1;31m---------------------------------------------------------------------------\u001B[0m",
      "\u001B[1;31mModuleNotFoundError\u001B[0m                       Traceback (most recent call last)",
      "Input \u001B[1;32mIn [1]\u001B[0m, in \u001B[0;36m<cell line: 1>\u001B[1;34m()\u001B[0m\n\u001B[1;32m----> 1\u001B[0m \u001B[38;5;28;01mimport\u001B[39;00m \u001B[38;5;21;01msmac\u001B[39;00m\n\u001B[0;32m      2\u001B[0m \u001B[38;5;28;01mfrom\u001B[39;00m \u001B[38;5;21;01msmac\u001B[39;00m \u001B[38;5;28;01mimport\u001B[39;00m SMAC4HPO, SMAC4MF, Scenario\n\u001B[0;32m      3\u001B[0m \u001B[38;5;28;01mfrom\u001B[39;00m \u001B[38;5;21;01msmac\u001B[39;00m\u001B[38;5;21;01m.\u001B[39;00m\u001B[38;5;21;01mconfig_space\u001B[39;00m \u001B[38;5;28;01mimport\u001B[39;00m ConfigurationSpace, Float, Configuration\n",
      "\u001B[1;31mModuleNotFoundError\u001B[0m: No module named 'smac'"
     ]
    }
   ],
   "source": [
    "import smac\n",
    "from smac import SMAC4HPO, SMAC4MF, Scenario\n",
    "from smac.config_space import ConfigurationSpace, Float, Configuration\n",
    "\n",
    "number_of_function_evaluations = 20\n",
    "max_env_steps = 500_000\n",
    "\n",
    "# Build configuration space\n",
    "configuration_space = ConfigurationSpace()\n",
    "gamma = Float(0.9, 0.999, name=\"gamma\", log=True)\n",
    "learning_rate = Float(5e-5, 5e-3, name=\"learning_rate\", log=True)\n",
    "configuration_space.add_hyperparameters([gamma, learning_rate])\n",
    "\n",
    "# In order to use SMAC we need to package the model we want to optimize in a function\n",
    "# In this case, SMAC minimizes therefore we want to return the negative performance\n",
    "def target_algorithm(configuration: Configuration, budget: int) -> float:\n",
    "    env = gym.make(\"Hopper-v3\")\n",
    "    model = TQC(\n",
    "        \"MlpPolicy\", env, verbose=1, gamma=configuration[\"gamma\"], learning_rate=configuration[\"learning_rate\"])\n",
    "    model.learn(total_timesteps=budget)\n",
    "    performance = evaluate(model, env)\n",
    "    return -performance\n",
    "    \n",
    "# Setup SMAC\n",
    "scenario = Scenarion({\n",
    "    \"runcount-limit\": number_of_function_evaluations,\n",
    "    \"eta\": 3,\n",
    "    \n",
    "})\n",
    "smac = SMAC4MF(\n",
    "    scenario=scenario,\n",
    "    target_algorithm=target_algorithm\n",
    ")\n",
    "\n",
    "# Let's go, optimize!\n",
    "smac.optimize()\n",
    "\n"
   ]
  },
  {
   "cell_type": "code",
   "execution_count": null,
   "id": "c650b521-436b-4176-a059-018b068d92ee",
   "metadata": {
    "pycharm": {
     "name": "#%%\n"
    }
   },
   "outputs": [],
   "source": [
    "# Visualize trajectory\n",
    "smac_outdir = ...\n",
    "trajectory = "
   ]
  }
 ],
 "metadata": {
  "kernelspec": {
   "display_name": "Python 3 (ipykernel)",
   "language": "python",
   "name": "python3"
  },
  "language_info": {
   "codemirror_mode": {
    "name": "ipython",
    "version": 3
   },
   "file_extension": ".py",
   "mimetype": "text/x-python",
   "name": "python",
   "nbconvert_exporter": "python",
   "pygments_lexer": "ipython3",
   "version": "3.9.7"
  }
 },
 "nbformat": 4,
 "nbformat_minor": 5
}